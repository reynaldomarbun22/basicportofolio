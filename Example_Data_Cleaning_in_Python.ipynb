{
  "nbformat": 4,
  "nbformat_minor": 0,
  "metadata": {
    "colab": {
      "name": "Example Data Cleaning in Python.ipynb",
      "provenance": [],
      "collapsed_sections": []
    },
    "kernelspec": {
      "name": "python3",
      "display_name": "Python 3"
    },
    "language_info": {
      "name": "python"
    }
  },
  "cells": [
    {
      "cell_type": "markdown",
      "metadata": {
        "id": "thNloovNfttE"
      },
      "source": [
        "# Connect to Google Drive"
      ]
    },
    {
      "cell_type": "code",
      "metadata": {
        "id": "7Z15PazSe3Eq",
        "colab": {
          "base_uri": "https://localhost:8080/"
        },
        "outputId": "42630550-d09d-4660-c5fa-1f831ffda961"
      },
      "source": [
        "from google.colab import drive\n",
        "drive.mount('/content/gdrive')"
      ],
      "execution_count": 1,
      "outputs": [
        {
          "output_type": "stream",
          "name": "stdout",
          "text": [
            "Mounted at /content/gdrive\n"
          ]
        }
      ]
    },
    {
      "cell_type": "code",
      "metadata": {
        "id": "UJRe_kLXfxH7",
        "colab": {
          "base_uri": "https://localhost:8080/"
        },
        "outputId": "38c1e67c-2e15-430b-ce48-777d7f3e04d8"
      },
      "source": [
        "%cd /content/gdrive/MyDrive/Data Science"
      ],
      "execution_count": 2,
      "outputs": [
        {
          "output_type": "stream",
          "name": "stdout",
          "text": [
            "/content/gdrive/MyDrive/Data Science\n"
          ]
        }
      ]
    },
    {
      "cell_type": "markdown",
      "metadata": {
        "id": "Mnb8raM2f_Ns"
      },
      "source": [
        "# Import Packages"
      ]
    },
    {
      "cell_type": "code",
      "metadata": {
        "id": "aqjC2mlYf-LH"
      },
      "source": [
        "import pandas as pd\n",
        "import numpy as np\n",
        "import re"
      ],
      "execution_count": 3,
      "outputs": []
    },
    {
      "cell_type": "markdown",
      "metadata": {
        "id": "AME4ssvthL-N"
      },
      "source": [
        "# Import Data"
      ]
    },
    {
      "cell_type": "code",
      "metadata": {
        "id": "wt3SXggvhLF8"
      },
      "source": [
        "df = pd.read_csv('Cleaned_DS_jobs.csv')"
      ],
      "execution_count": 4,
      "outputs": []
    },
    {
      "cell_type": "code",
      "metadata": {
        "colab": {
          "base_uri": "https://localhost:8080/",
          "height": 864
        },
        "id": "FI1eYV9Ux6In",
        "outputId": "ebecc516-10e0-4a10-827c-676eea982dd5"
      },
      "source": [
        "df"
      ],
      "execution_count": 5,
      "outputs": [
        {
          "output_type": "execute_result",
          "data": {
            "text/html": [
              "<div>\n",
              "<style scoped>\n",
              "    .dataframe tbody tr th:only-of-type {\n",
              "        vertical-align: middle;\n",
              "    }\n",
              "\n",
              "    .dataframe tbody tr th {\n",
              "        vertical-align: top;\n",
              "    }\n",
              "\n",
              "    .dataframe thead th {\n",
              "        text-align: right;\n",
              "    }\n",
              "</style>\n",
              "<table border=\"1\" class=\"dataframe\">\n",
              "  <thead>\n",
              "    <tr style=\"text-align: right;\">\n",
              "      <th></th>\n",
              "      <th>index</th>\n",
              "      <th>Job Title</th>\n",
              "      <th>Salary Estimate</th>\n",
              "      <th>Job Description</th>\n",
              "      <th>Rating</th>\n",
              "      <th>Company Name</th>\n",
              "      <th>Location</th>\n",
              "      <th>Headquarters</th>\n",
              "      <th>Size</th>\n",
              "      <th>Founded</th>\n",
              "      <th>Type of ownership</th>\n",
              "      <th>Industry</th>\n",
              "      <th>Sector</th>\n",
              "      <th>Revenue</th>\n",
              "      <th>Competitors</th>\n",
              "    </tr>\n",
              "  </thead>\n",
              "  <tbody>\n",
              "    <tr>\n",
              "      <th>0</th>\n",
              "      <td>0</td>\n",
              "      <td>data scientist</td>\n",
              "      <td>154.0</td>\n",
              "      <td>Description\\n\\nThe Senior Data Scientist is re...</td>\n",
              "      <td>3.100000</td>\n",
              "      <td>Healthfirst</td>\n",
              "      <td>New York, NY</td>\n",
              "      <td>New York, NY</td>\n",
              "      <td>1001 to 5000 employees</td>\n",
              "      <td>1993</td>\n",
              "      <td>Nonprofit Organization</td>\n",
              "      <td>Insurance Carriers</td>\n",
              "      <td>Insurance</td>\n",
              "      <td>Unknown / Non-Applicable</td>\n",
              "      <td>EmblemHealth, UnitedHealth Group, Aetna</td>\n",
              "    </tr>\n",
              "    <tr>\n",
              "      <th>1</th>\n",
              "      <td>1</td>\n",
              "      <td>data scientist</td>\n",
              "      <td>154.0</td>\n",
              "      <td>Secure our Nation, Ignite your Future\\n\\nJoin ...</td>\n",
              "      <td>4.200000</td>\n",
              "      <td>ManTech</td>\n",
              "      <td>Chantilly, VA</td>\n",
              "      <td>Herndon, VA</td>\n",
              "      <td>5001 to 10000 employees</td>\n",
              "      <td>1968</td>\n",
              "      <td>Company - Public</td>\n",
              "      <td>Research &amp; Development</td>\n",
              "      <td>Business Services</td>\n",
              "      <td>$1 to $2 billion (USD)</td>\n",
              "      <td>-1</td>\n",
              "    </tr>\n",
              "    <tr>\n",
              "      <th>2</th>\n",
              "      <td>2</td>\n",
              "      <td>data scientist</td>\n",
              "      <td>154.0</td>\n",
              "      <td>Overview\\n\\n\\nAnalysis Group is one of the lar...</td>\n",
              "      <td>3.800000</td>\n",
              "      <td>Analysis Group</td>\n",
              "      <td>Boston, MA</td>\n",
              "      <td>Boston, MA</td>\n",
              "      <td>1001 to 5000 employees</td>\n",
              "      <td>1981</td>\n",
              "      <td>Private Practice / Firm</td>\n",
              "      <td>Consulting</td>\n",
              "      <td>Business Services</td>\n",
              "      <td>$100 to $500 million (USD)</td>\n",
              "      <td>-1</td>\n",
              "    </tr>\n",
              "    <tr>\n",
              "      <th>3</th>\n",
              "      <td>3</td>\n",
              "      <td>data scientist</td>\n",
              "      <td>154.0</td>\n",
              "      <td>JOB DESCRIPTION:\\n\\nDo you have a passion for ...</td>\n",
              "      <td>3.500000</td>\n",
              "      <td>INFICON</td>\n",
              "      <td>Newton, MA</td>\n",
              "      <td>Bad Ragaz, Switzerland</td>\n",
              "      <td>501 to 1000 employees</td>\n",
              "      <td>2000</td>\n",
              "      <td>Company - Public</td>\n",
              "      <td>Electrical &amp; Electronic Manufacturing</td>\n",
              "      <td>Manufacturing</td>\n",
              "      <td>$100 to $500 million (USD)</td>\n",
              "      <td>MKS Instruments, Pfeiffer Vacuum, Agilent Tech...</td>\n",
              "    </tr>\n",
              "    <tr>\n",
              "      <th>4</th>\n",
              "      <td>4</td>\n",
              "      <td>data scientist</td>\n",
              "      <td>154.0</td>\n",
              "      <td>Data Scientist\\nAffinity Solutions / Marketing...</td>\n",
              "      <td>2.900000</td>\n",
              "      <td>Affinity Solutions</td>\n",
              "      <td>New York, NY</td>\n",
              "      <td>New York, NY</td>\n",
              "      <td>51 to 200 employees</td>\n",
              "      <td>1998</td>\n",
              "      <td>Company - Private</td>\n",
              "      <td>Advertising &amp; Marketing</td>\n",
              "      <td>Business Services</td>\n",
              "      <td>Unknown / Non-Applicable</td>\n",
              "      <td>Commerce Signals, Cardlytics, Yodlee</td>\n",
              "    </tr>\n",
              "    <tr>\n",
              "      <th>...</th>\n",
              "      <td>...</td>\n",
              "      <td>...</td>\n",
              "      <td>...</td>\n",
              "      <td>...</td>\n",
              "      <td>...</td>\n",
              "      <td>...</td>\n",
              "      <td>...</td>\n",
              "      <td>...</td>\n",
              "      <td>...</td>\n",
              "      <td>...</td>\n",
              "      <td>...</td>\n",
              "      <td>...</td>\n",
              "      <td>...</td>\n",
              "      <td>...</td>\n",
              "      <td>...</td>\n",
              "    </tr>\n",
              "    <tr>\n",
              "      <th>667</th>\n",
              "      <td>667</td>\n",
              "      <td>data scientist</td>\n",
              "      <td>136.0</td>\n",
              "      <td>Summary\\n\\nWe’re looking for a data scientist ...</td>\n",
              "      <td>3.600000</td>\n",
              "      <td>TRANZACT</td>\n",
              "      <td>Fort Lee, NJ</td>\n",
              "      <td>Fort Lee, NJ</td>\n",
              "      <td>1001 to 5000 employees</td>\n",
              "      <td>1989</td>\n",
              "      <td>Company - Private</td>\n",
              "      <td>Advertising &amp; Marketing</td>\n",
              "      <td>Business Services</td>\n",
              "      <td>Unknown / Non-Applicable</td>\n",
              "      <td>-1</td>\n",
              "    </tr>\n",
              "    <tr>\n",
              "      <th>668</th>\n",
              "      <td>668</td>\n",
              "      <td>data scientist</td>\n",
              "      <td>136.0</td>\n",
              "      <td>Job Description\\nBecome a thought leader withi...</td>\n",
              "      <td>3.881833</td>\n",
              "      <td>JKGT</td>\n",
              "      <td>San Francisco, CA</td>\n",
              "      <td>-1</td>\n",
              "      <td>-1</td>\n",
              "      <td>-1</td>\n",
              "      <td>-1</td>\n",
              "      <td>-1</td>\n",
              "      <td>-1</td>\n",
              "      <td>-1</td>\n",
              "      <td>-1</td>\n",
              "    </tr>\n",
              "    <tr>\n",
              "      <th>669</th>\n",
              "      <td>669</td>\n",
              "      <td>data scientist</td>\n",
              "      <td>136.0</td>\n",
              "      <td>Join a thriving company that is changing the w...</td>\n",
              "      <td>3.881833</td>\n",
              "      <td>AccessHope</td>\n",
              "      <td>Irwindale, CA</td>\n",
              "      <td>-1</td>\n",
              "      <td>-1</td>\n",
              "      <td>-1</td>\n",
              "      <td>-1</td>\n",
              "      <td>-1</td>\n",
              "      <td>-1</td>\n",
              "      <td>-1</td>\n",
              "      <td>-1</td>\n",
              "    </tr>\n",
              "    <tr>\n",
              "      <th>670</th>\n",
              "      <td>670</td>\n",
              "      <td>data scientist</td>\n",
              "      <td>136.0</td>\n",
              "      <td>100 Remote Opportunity As an AINLP Data Scient...</td>\n",
              "      <td>5.000000</td>\n",
              "      <td>ChaTeck Incorporated</td>\n",
              "      <td>San Francisco, CA</td>\n",
              "      <td>Santa Clara, CA</td>\n",
              "      <td>1 to 50 employees</td>\n",
              "      <td>-1</td>\n",
              "      <td>Company - Private</td>\n",
              "      <td>Advertising &amp; Marketing</td>\n",
              "      <td>Business Services</td>\n",
              "      <td>$1 to $5 million (USD)</td>\n",
              "      <td>-1</td>\n",
              "    </tr>\n",
              "    <tr>\n",
              "      <th>671</th>\n",
              "      <td>671</td>\n",
              "      <td>data scientist</td>\n",
              "      <td>136.0</td>\n",
              "      <td>Description\\n\\nThe Data Scientist will be part...</td>\n",
              "      <td>2.700000</td>\n",
              "      <td>1-800-Flowers</td>\n",
              "      <td>New York, NY</td>\n",
              "      <td>Carle Place, NY</td>\n",
              "      <td>1001 to 5000 employees</td>\n",
              "      <td>1976</td>\n",
              "      <td>Company - Public</td>\n",
              "      <td>Wholesale</td>\n",
              "      <td>Business Services</td>\n",
              "      <td>$1 to $2 billion (USD)</td>\n",
              "      <td>-1</td>\n",
              "    </tr>\n",
              "  </tbody>\n",
              "</table>\n",
              "<p>672 rows × 15 columns</p>\n",
              "</div>"
            ],
            "text/plain": [
              "     index  ...                                        Competitors\n",
              "0        0  ...            EmblemHealth, UnitedHealth Group, Aetna\n",
              "1        1  ...                                                 -1\n",
              "2        2  ...                                                 -1\n",
              "3        3  ...  MKS Instruments, Pfeiffer Vacuum, Agilent Tech...\n",
              "4        4  ...               Commerce Signals, Cardlytics, Yodlee\n",
              "..     ...  ...                                                ...\n",
              "667    667  ...                                                 -1\n",
              "668    668  ...                                                 -1\n",
              "669    669  ...                                                 -1\n",
              "670    670  ...                                                 -1\n",
              "671    671  ...                                                 -1\n",
              "\n",
              "[672 rows x 15 columns]"
            ]
          },
          "metadata": {},
          "execution_count": 5
        }
      ]
    },
    {
      "cell_type": "markdown",
      "metadata": {
        "id": "xFu2F1YapjMc"
      },
      "source": [
        "# Answers"
      ]
    },
    {
      "cell_type": "markdown",
      "metadata": {
        "id": "whIMLzZSTdLy"
      },
      "source": [
        "## 1) The `Location` column is actually not clean yet, in the sense of there are some samples in this column that have different format with the rest. Please check this column and clean it! (Note: write a function that can automatically check and clean this column. You can utilize information from Google to help building your function.)"
      ]
    },
    {
      "cell_type": "markdown",
      "metadata": {
        "id": "lVL3OPfiqNOR"
      },
      "source": [
        "The hypothesis is that all values in the `Location` column has format of:\n",
        "\n",
        " `(city), (state with 2 uppercase characters)`\n",
        "\n",
        " For instance: `Chantilly, VA`.\n",
        "\n",
        " Now, we wanted to check whether all values in this column follows this format or not. If no, then we have to replace the value following this format."
      ]
    },
    {
      "cell_type": "code",
      "metadata": {
        "id": "LtAL_540qMk1"
      },
      "source": [
        "def check_location(x):\n",
        "    splitted = x.split(', ')\n",
        "\n",
        "    if len(splitted) == 1:\n",
        "        # if there is no ',' then return False\n",
        "        return False\n",
        "    else:\n",
        "        if (len(splitted[1]) != 2) or (splitted[1].upper() != splitted[1]):\n",
        "            # If the state is not written in 2 uppercase characters then returns False\n",
        "            return False\n",
        "        else:\n",
        "            return True"
      ],
      "execution_count": 6,
      "outputs": []
    },
    {
      "cell_type": "code",
      "metadata": {
        "id": "9_esKH8Nruu6"
      },
      "source": [
        "location_check = df['Location'].apply(check_location)"
      ],
      "execution_count": 7,
      "outputs": []
    },
    {
      "cell_type": "code",
      "metadata": {
        "colab": {
          "base_uri": "https://localhost:8080/"
        },
        "id": "npiPZ6Adx8o0",
        "outputId": "3dcd8797-b313-4f56-b4bd-d34e5b088867"
      },
      "source": [
        "uncleaned_location = list(df[location_check==False]['Location'].unique())\n",
        "uncleaned_location"
      ],
      "execution_count": 8,
      "outputs": [
        {
          "output_type": "execute_result",
          "data": {
            "text/plain": [
              "['Remote',\n",
              " 'United States',\n",
              " 'Utah',\n",
              " 'New Jersey',\n",
              " 'Texas',\n",
              " 'Patuxent, Anne Arundel, MD',\n",
              " 'California']"
            ]
          },
          "metadata": {},
          "execution_count": 8
        }
      ]
    },
    {
      "cell_type": "markdown",
      "metadata": {
        "id": "-YyiSSCKsJou"
      },
      "source": [
        "Yay! We found 7 samples that are not following the format. Now, we have to replace those values with 'others'."
      ]
    },
    {
      "cell_type": "code",
      "metadata": {
        "id": "erTfnte3sHjf"
      },
      "source": [
        "df['Location'] = df['Location'].apply(lambda x: 'others' if x in uncleaned_location else x)"
      ],
      "execution_count": 9,
      "outputs": []
    },
    {
      "cell_type": "markdown",
      "metadata": {
        "id": "bXO0x8q1tss5"
      },
      "source": [
        "To make sure, we can using the same `check_location` function whether the `Location` column is already cleaned or not."
      ]
    },
    {
      "cell_type": "code",
      "metadata": {
        "id": "f1qr_2HTtr4o"
      },
      "source": [
        "location_check_v2 = df['Location'].apply(check_location)"
      ],
      "execution_count": 10,
      "outputs": []
    },
    {
      "cell_type": "code",
      "metadata": {
        "colab": {
          "base_uri": "https://localhost:8080/"
        },
        "id": "NQgTjSBQuEFE",
        "outputId": "92e9e565-4ef7-4ac9-934b-a36e4998b9d0"
      },
      "source": [
        "list(df[location_check_v2==False]['Location'].unique())"
      ],
      "execution_count": 11,
      "outputs": [
        {
          "output_type": "execute_result",
          "data": {
            "text/plain": [
              "['others']"
            ]
          },
          "metadata": {},
          "execution_count": 11
        }
      ]
    },
    {
      "cell_type": "markdown",
      "metadata": {
        "id": "I45K3aQSuGIK"
      },
      "source": [
        "## 2) Notice that we haven’t work with the `Job Description` column. Do you think we can get some information from this column? If yes, please list down your ideas to clean this column and ways on how to extract meaningful information. \n"
      ]
    },
    {
      "cell_type": "markdown",
      "metadata": {
        "id": "KQlDI951vKxO"
      },
      "source": [
        "Yes we can! We can get some information from this column. \n",
        "\n",
        "Here are several ideas to extract meaningful information from this column:\n",
        "1. Count the length of the job description and assume it as new variable called `workload`\n",
        "2. Check the minimum education requirement using string matching, e.g. Master, Bachelor, PhD\n",
        "3. Check whether need Python skills or not using string matching\n",
        "4. and many more..\n",
        "\n",
        "Here are several ideas to clean this column:\n",
        "1. Remove non alphanumeric characters\n",
        "2. Lowercase all characters"
      ]
    }
  ]
}